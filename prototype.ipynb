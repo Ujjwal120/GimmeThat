{
 "metadata": {
  "language_info": {
   "codemirror_mode": {
    "name": "ipython",
    "version": 3
   },
   "file_extension": ".py",
   "mimetype": "text/x-python",
   "name": "python",
   "nbconvert_exporter": "python",
   "pygments_lexer": "ipython3",
   "version": "3.8.7"
  },
  "orig_nbformat": 2,
  "kernelspec": {
   "name": "python387jvsc74a57bd067875770ec95f68a753faecefc8f067c838f47e2f852ff82da135e0d2b15fd16",
   "display_name": "Python 3.8.7 64-bit ('RecSys-3IknWFq_': pipenv)"
  }
 },
 "nbformat": 4,
 "nbformat_minor": 2,
 "cells": [
  {
   "cell_type": "code",
   "execution_count": 1,
   "metadata": {},
   "outputs": [
    {
     "output_type": "stream",
     "name": "stdout",
     "text": [
      "286641\n"
     ]
    }
   ],
   "source": [
    "import pandas as pd\n",
    "\n",
    "df = pd.read_csv(\"../Trell.csv\")\n",
    "\n",
    "# removing redundant first column from the dataframe\n",
    "df = df.iloc[:, 1:]\n",
    "\n",
    "unique_val = df[\"userId\"].value_counts()\n",
    "\n",
    "# no of unique users in the dataset\n",
    "print(len(unique_val))\n"
   ]
  },
  {
   "cell_type": "code",
   "execution_count": 2,
   "metadata": {},
   "outputs": [
    {
     "output_type": "stream",
     "name": "stdout",
     "text": [
      "   Category_86  Category_97  Category_33  Category_28  Category_35  \\\n0          0.0            1            1          0.0          0.0   \n1          0.0            0            0          0.0          0.0   \n2          0.0            1            1          0.0          0.0   \n3          0.0            1            0          0.0          0.0   \n4          0.0            1            1          0.0          0.0   \n5          0.0            1            1          0.0          0.0   \n6          0.0            1            1          0.0          0.0   \n7          0.0            1            0          0.0          0.0   \n8          0.0            1            0          0.0          0.0   \n9          0.0            0            0          0.0          0.0   \n\n   Category_118  Category_68  Category_75  Category_127  Category_4  ...  \\\n0             0          0.0          0.0             1           1  ...   \n1             0          0.0          0.0             0           1  ...   \n2             1          1.0          0.0             1           1  ...   \n3             0          0.0          0.0             1           0  ...   \n4             0          0.0          0.0             1           1  ...   \n5             0          0.0          0.0             1           1  ...   \n6             0          0.0          0.0             1           1  ...   \n7             0          0.0          0.0             1           0  ...   \n8             0          0.0          0.0             1           1  ...   \n9             0          0.0          0.0             0           1  ...   \n\n   tier0  event_type  categoryId    userId        viewing_date_global  \\\n0    NaN        like         NaN  57753482  2020-07-24 19:34:57+00:00   \n1    NaN     comment   -0.015281  48214058  2020-07-08 12:51:42+00:00   \n2    NaN     comment   -0.015281  37681988  2020-07-03 12:18:50+00:00   \n3    NaN        like         NaN  42186799  2020-11-04 18:15:45+00:00   \n4    NaN        like         NaN  94838388  2020-11-04 11:21:12+00:00   \n5    NaN        save         NaN  15515464  2020-06-27 00:22:27+00:00   \n6    NaN        like         NaN  57913860  2020-07-25 10:38:57+00:00   \n7    NaN        like         NaN  49014860  2020-07-18 07:53:41+00:00   \n8    NaN        like         NaN  50506836  2020-07-09 16:32:37+00:00   \n9    NaN     comment   -0.015281  46263752  2020-07-07 20:45:08+00:00   \n\n   trail_avgtimeSpent  timespent_global  completion_global  \\\n0           -0.622674          0.105333           1.547551   \n1            0.482578         -0.126733          -0.773875   \n2           -0.257310         -0.551583          -0.963062   \n3            0.893540         -0.300265          -0.893621   \n4           -0.638294         -0.229060           1.547551   \n5           -0.865046         -0.313224           0.156583   \n6           -0.871415         -0.187599           1.547551   \n7            0.170806         -0.412932          -0.928859   \n8           -0.808292         -0.412932           0.165634   \n9           -0.161544         -0.146044          -0.687732   \n\n   duration_preprocessed_mode_freq  completion_mode_score  \n0                        -0.095067               0.143318  \n1                        -0.075071              -0.153063  \n2                        -0.053638              -0.161633  \n3                        -0.095067              -0.214053  \n4                        -0.095067               0.143318  \n5                         3.683906               3.415638  \n6                        -0.095067               0.143318  \n7                        -0.095067              -0.219211  \n8                        -0.095067              -0.058985  \n9                        -0.053638              -0.125913  \n\n[10 rows x 135 columns]\n"
     ]
    }
   ],
   "source": [
    "filter_col = [col for col in df if col.startswith('Category') | col.startswith('languageId') | col.startswith('Age') | col.startswith('gender') | col.startswith('duration_preprocessedduration') | col.startswith('target_gender') | col.startswith('duration_preprocessed_modeduration') | col.startswith('duration_preprocessed_modeduration') | col.startswith('User_Interest') | col.startswith('tier') | col.startswith('event_type') | col.startswith('categoryId') ]\n",
    "\n",
    "filter_col += [\"userId\", \"viewing_date_global\", \"trail_avgtimeSpent\", \"timespent_global\", \"completion_global\", \"duration_preprocessed_mode_freq\", \"completion_mode_score\"]\n",
    "\n",
    "print(df[filter_col].head(10))"
   ]
  },
  {
   "cell_type": "code",
   "execution_count": null,
   "metadata": {},
   "outputs": [],
   "source": []
  }
 ]
}