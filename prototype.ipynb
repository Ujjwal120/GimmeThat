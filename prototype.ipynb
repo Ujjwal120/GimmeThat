{
 "cells": [
  {
   "cell_type": "code",
   "execution_count": null,
   "metadata": {},
   "outputs": [],
   "source": [
    "import pandas as pd\n",
    "\n",
    "df = pd.read_csv(\"../Trell.csv\")\n",
    "\n",
    "# removing redundant first column from the dataframe\n",
    "df = df.iloc[:, 1:]\n",
    "\n",
    "# no of unique users in the dataset\n",
    "print( len(pd.unique(df[\"userId\"])) )\n"
   ]
  },
  {
   "cell_type": "code",
   "execution_count": null,
   "metadata": {},
   "outputs": [],
   "source": [
    "filter_col = [col for col in df if col.startswith('Category') | col.startswith('languageId') | col.startswith('Age') | col.startswith('gender') | col.startswith('duration_preprocessedduration') | col.startswith('target_gender') | col.startswith('duration_preprocessed_modeduration') | col.startswith('duration_preprocessed_modeduration') | col.startswith('User_Interest') | col.startswith('tier') | col.startswith('event_type') | col.startswith('categoryId') ]\n",
    "\n",
    "filter_col += [\"userId\", \"viewing_date_global\", \"trail_avgtimeSpent\", \"timespent_global\", \"completion_global\", \"duration_preprocessed_mode_freq\", \"completion_mode_score\"]\n",
    "\n",
    "print( len(filter_col))\n",
    "\n",
    "df= df[filter_col]\n"
   ]
  },
  {
   "cell_type": "code",
   "execution_count": null,
   "metadata": {},
   "outputs": [],
   "source": [
    "print( df )"
   ]
  },
  {
   "cell_type": "code",
   "execution_count": null,
   "metadata": {},
   "outputs": [],
   "source": [
    "## handling null and empty values"
   ]
  },
  {
   "cell_type": "code",
   "execution_count": null,
   "metadata": {},
   "outputs": [],
   "source": [
    "print( pd.isna(df).any() )"
   ]
  },
  {
   "cell_type": "code",
   "execution_count": null,
   "metadata": {},
   "outputs": [],
   "source": []
  },
  {
   "cell_type": "code",
   "execution_count": null,
   "metadata": {},
   "outputs": [],
   "source": [
    "for col in df.columns: \n",
    "    if col.startswith('Category') | col.startswith('duration'):\n",
    "        df[col] = df[col].fillna(0)"
   ]
  },
  {
   "cell_type": "code",
   "execution_count": null,
   "metadata": {},
   "outputs": [],
   "source": [
    "print( df.columns[df.isna().any()] )"
   ]
  },
  {
   "cell_type": "code",
   "execution_count": null,
   "metadata": {},
   "outputs": [],
   "source": [
    "df['Age0'] = df['Age0'].fillna( df['Age0'].mean() )\n",
    "df['tier0'] = df['tier0'].fillna(-1)\n",
    "df['categoryId'] = df['categoryId'].fillna( df['categoryId'].mean() )"
   ]
  },
  {
   "cell_type": "code",
   "execution_count": null,
   "metadata": {},
   "outputs": [],
   "source": []
  },
  {
   "cell_type": "code",
   "execution_count": null,
   "metadata": {},
   "outputs": [],
   "source": []
  }
 ],
 "metadata": {
  "kernelspec": {
   "display_name": "Python 3",
   "language": "python",
   "name": "python3"
  },
  "language_info": {
   "codemirror_mode": {
    "name": "ipython",
    "version": 3
   },
   "file_extension": ".py",
   "mimetype": "text/x-python",
   "name": "python",
   "nbconvert_exporter": "python",
   "pygments_lexer": "ipython3",
   "version": "3.7.6"
  }
 },
 "nbformat": 4,
 "nbformat_minor": 2
}
